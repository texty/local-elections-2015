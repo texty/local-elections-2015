{
 "cells": [
  {
   "cell_type": "code",
   "execution_count": 75,
   "metadata": {
    "collapsed": true
   },
   "outputs": [],
   "source": [
    "import pandas as pd\n",
    "from pandas import DataFrame\n",
    "\n",
    "df = pd.read_csv(\"municipal-2015.csv\")"
   ]
  },
  {
   "cell_type": "code",
   "execution_count": 76,
   "metadata": {
    "collapsed": false
   },
   "outputs": [
    {
     "name": "stdout",
     "output_type": "stream",
     "text": [
      "Index([u'party', u'result', u'council'], dtype='object')\n"
     ]
    }
   ],
   "source": [
    "print(df.columns)"
   ]
  },
  {
   "cell_type": "code",
   "execution_count": 77,
   "metadata": {
    "collapsed": false
   },
   "outputs": [],
   "source": [
    "#add column with region\n",
    "df['region'] = df['council'].str.split(' ').str.get(0) + ' обл.'\n"
   ]
  },
  {
   "cell_type": "code",
   "execution_count": 78,
   "metadata": {
    "collapsed": false
   },
   "outputs": [
    {
     "name": "stdout",
     "output_type": "stream",
     "text": [
      "                                               party  result  \\\n",
      "0  політична партія Всеукраїнське об’єднання \"Бат...   17.65   \n",
      "1        ПАРТІЯ \"БЛОК ПЕТРА ПОРОШЕНКА \"СОЛІДАРНІСТЬ\"   17.65   \n",
      "2  політична партія Всеукраїнське об’єднання \"Сво...   11.76   \n",
      "3                   Політична партія \"НОВА ПОЛІТИКА\"   11.76   \n",
      "4                Політична Партія \"Опозиційний блок\"   73.53   \n",
      "\n",
      "                   council          region  \n",
      "0  Хмільницька міська рада  Вінницька обл.  \n",
      "1  Хмільницька міська рада  Вінницька обл.  \n",
      "2  Хмільницька міська рада  Вінницька обл.  \n",
      "3  Хмільницька міська рада  Вінницька обл.  \n",
      "4  Рубіжанська міська рада  Луганська обл.  \n"
     ]
    }
   ],
   "source": [
    "# clean column with councils\n",
    "df['council'] = df['council'].str.split(' ').str.get(2) + ' міська рада'\n",
    "print df.head(5)"
   ]
  },
  {
   "cell_type": "code",
   "execution_count": 79,
   "metadata": {
    "collapsed": true
   },
   "outputs": [],
   "source": [
    "cleanmunicipal = df.to_csv('municipal-2015-clean.csv')"
   ]
  }
 ],
 "metadata": {
  "kernelspec": {
   "display_name": "Python 2",
   "language": "python",
   "name": "python2"
  },
  "language_info": {
   "codemirror_mode": {
    "name": "ipython",
    "version": 2
   },
   "file_extension": ".py",
   "mimetype": "text/x-python",
   "name": "python",
   "nbconvert_exporter": "python",
   "pygments_lexer": "ipython2",
   "version": "2.7.10"
  }
 },
 "nbformat": 4,
 "nbformat_minor": 0
}
