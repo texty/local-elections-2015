{
 "cells": [
  {
   "cell_type": "code",
   "execution_count": 10,
   "metadata": {
    "collapsed": true
   },
   "outputs": [],
   "source": [
    "import pandas as pd\n",
    "from pandas import DataFrame\n",
    "\n",
    "df = pd.read_csv(\"counties-2015.csv\")"
   ]
  },
  {
   "cell_type": "code",
   "execution_count": 11,
   "metadata": {
    "collapsed": false
   },
   "outputs": [
    {
     "name": "stdout",
     "output_type": "stream",
     "text": [
      "Index([u'party', u'result', u'council'], dtype='object')\n"
     ]
    }
   ],
   "source": [
    "print(df.columns)"
   ]
  },
  {
   "cell_type": "code",
   "execution_count": 12,
   "metadata": {
    "collapsed": false
   },
   "outputs": [],
   "source": [
    "#add column with region\n",
    "df['region'] = df['council'].str.split(' ').str.get(0) + ' обл.'\n"
   ]
  },
  {
   "cell_type": "code",
   "execution_count": 13,
   "metadata": {
    "collapsed": false
   },
   "outputs": [
    {
     "name": "stdout",
     "output_type": "stream",
     "text": [
      "                                               party  result  \\\n",
      "0                             Аграрна партія України   17.65   \n",
      "1  політична партія Всеукраїнське об’єднання \"Бат...   23.53   \n",
      "2        ПАРТІЯ \"БЛОК ПЕТРА ПОРОШЕНКА \"СОЛІДАРНІСТЬ\"   25.00   \n",
      "3  політична партія Всеукраїнське об’єднання \"Бат...   27.78   \n",
      "4        ПАРТІЯ \"БЛОК ПЕТРА ПОРОШЕНКА \"СОЛІДАРНІСТЬ\"   19.44   \n",
      "\n",
      "                     council                  region  \n",
      "0    Ямпільська районна рада          Вінницька обл.  \n",
      "1     Тлумацька районна рада  Івано-Франківська обл.  \n",
      "2   Тисменицька районна рада  Івано-Франківська обл.  \n",
      "3    Снятинська районна рада  Івано-Франківська обл.  \n",
      "4  Рожнятівська районна рада  Івано-Франківська обл.  \n"
     ]
    }
   ],
   "source": [
    "# clean column with councils\n",
    "df['council'] = df['council'].str.split(' ').str.get(2) + ' районна рада'\n",
    "print df.head(5)"
   ]
  },
  {
   "cell_type": "code",
   "execution_count": 14,
   "metadata": {
    "collapsed": true
   },
   "outputs": [],
   "source": [
    "cleancounties= df.to_csv('counties-2015-clean.csv')"
   ]
  }
 ],
 "metadata": {
  "kernelspec": {
   "display_name": "Python 2",
   "language": "python",
   "name": "python2"
  },
  "language_info": {
   "codemirror_mode": {
    "name": "ipython",
    "version": 2
   },
   "file_extension": ".py",
   "mimetype": "text/x-python",
   "name": "python",
   "nbconvert_exporter": "python",
   "pygments_lexer": "ipython2",
   "version": "2.7.10"
  }
 },
 "nbformat": 4,
 "nbformat_minor": 0
}
